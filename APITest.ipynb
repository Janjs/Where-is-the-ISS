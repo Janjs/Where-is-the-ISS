{
 "cells": [
  {
   "cell_type": "code",
   "execution_count": null,
   "id": "309b6b23",
   "metadata": {},
   "outputs": [],
   "source": [
    "import pandas as pd\n",
    "import plotly.express as px\n",
    "import nbformat"
   ]
  },
  {
   "cell_type": "code",
   "execution_count": null,
   "id": "e8462c9a",
   "metadata": {},
   "outputs": [],
   "source": [
    "url = \"http://api.open-notify.org/iss-now.json\"\n",
    "\n",
    "df = pd.read_json(url)"
   ]
  },
  {
   "cell_type": "code",
   "execution_count": null,
   "id": "1f7fa058",
   "metadata": {},
   "outputs": [],
   "source": [
    "df"
   ]
  },
  {
   "cell_type": "code",
   "execution_count": null,
   "id": "27ec4cce",
   "metadata": {},
   "outputs": [],
   "source": [
    "df['latitude'] = df.loc['latitude', 'iss_position']\n",
    "df['longitude'] = df.loc['longitude', 'iss_position']\n",
    "df.reset_index(inplace=True)"
   ]
  },
  {
   "cell_type": "code",
   "execution_count": null,
   "id": "9c04018a",
   "metadata": {},
   "outputs": [],
   "source": [
    "df = df.drop(['index', 'message'], axis=1)"
   ]
  },
  {
   "cell_type": "code",
   "execution_count": null,
   "id": "f5b3dbd2",
   "metadata": {},
   "outputs": [],
   "source": [
    "df"
   ]
  },
  {
   "cell_type": "code",
   "execution_count": null,
   "id": "5be8480d",
   "metadata": {},
   "outputs": [],
   "source": [
    "fig = px.scatter_geo(df, lat='latitude', lon='longitude')"
   ]
  },
  {
   "cell_type": "code",
   "execution_count": null,
   "id": "bc024c19",
   "metadata": {},
   "outputs": [],
   "source": [
    "fig"
   ]
  },
  {
   "cell_type": "code",
   "execution_count": null,
   "metadata": {},
   "outputs": [],
   "source": []
  }
 ],
 "metadata": {
  "kernelspec": {
   "name": "python3",
   "display_name": "Python 3.7.7 64-bit ('3.7.7': pyenv)"
  },
  "language_info": {
   "codemirror_mode": {
    "name": "ipython",
    "version": 3
   },
   "file_extension": ".py",
   "mimetype": "text/x-python",
   "name": "python",
   "nbconvert_exporter": "python",
   "pygments_lexer": "ipython3",
   "version": "3.7.7"
  },
  "metadata": {
   "interpreter": {
    "hash": "e54139d242f4eab4195ad239f84369bd336a47022693c2635f124683541073f1"
   }
  },
  "interpreter": {
   "hash": "e54139d242f4eab4195ad239f84369bd336a47022693c2635f124683541073f1"
  }
 },
 "nbformat": 4,
 "nbformat_minor": 5
}